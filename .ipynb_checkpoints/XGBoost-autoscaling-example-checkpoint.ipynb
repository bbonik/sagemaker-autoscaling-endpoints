{
 "cells": [
  {
   "cell_type": "markdown",
   "id": "0292d255",
   "metadata": {},
   "source": [
    "# XGBoost AutoScaling Example\n",
    "\n",
    "Adding autoscaling to a simple regression endpoint."
   ]
  },
  {
   "cell_type": "code",
   "execution_count": null,
   "id": "a6bac6ad",
   "metadata": {},
   "outputs": [],
   "source": [
    "import boto3\n",
    "import sagemaker\n",
    "from sagemaker.estimator import Estimator\n",
    "\n",
    "boto_session = boto3.session.Session()\n",
    "region = boto_session.region_name\n",
    "\n",
    "sagemaker_session = sagemaker.Session()\n",
    "base_job_prefix = 'xgboost-example'\n",
    "role = sagemaker.get_execution_role()\n",
    "\n",
    "default_bucket = sagemaker_session.default_bucket()\n",
    "s3_prefix = base_job_prefix\n",
    "\n",
    "training_instance_type = 'ml.m5.xlarge'"
   ]
  },
  {
   "cell_type": "markdown",
   "id": "67bd6837",
   "metadata": {},
   "source": [
    "## Download Data and Prepare Training Input in S3"
   ]
  },
  {
   "cell_type": "code",
   "execution_count": null,
   "id": "b808c1cd",
   "metadata": {},
   "outputs": [],
   "source": [
    "!aws s3 cp s3://sagemaker-sample-files/datasets/tabular/uci_abalone/train_csv/abalone_dataset1_train.csv ."
   ]
  },
  {
   "cell_type": "code",
   "execution_count": null,
   "id": "18f455f4",
   "metadata": {},
   "outputs": [],
   "source": [
    "!aws s3 cp abalone_dataset1_train.csv s3://{default_bucket}/xgboost-regression/train.csv"
   ]
  },
  {
   "cell_type": "code",
   "execution_count": null,
   "id": "1932e32e",
   "metadata": {},
   "outputs": [],
   "source": [
    "from sagemaker.inputs import TrainingInput\n",
    "training_path = f's3://{default_bucket}/xgboost-regression/train.csv'\n",
    "train_input = TrainingInput(training_path, content_type=\"text/csv\")"
   ]
  },
  {
   "cell_type": "markdown",
   "id": "90a17d47",
   "metadata": {},
   "source": [
    "## Retrieve XGBoost Image and Prepare Training Estimator W/ HyperParameters"
   ]
  },
  {
   "cell_type": "code",
   "execution_count": null,
   "id": "a6df4c50",
   "metadata": {},
   "outputs": [],
   "source": [
    "model_path = f's3://{default_bucket}/{s3_prefix}/xgb_model'\n",
    "\n",
    "image_uri = sagemaker.image_uris.retrieve(\n",
    "    framework=\"xgboost\",\n",
    "    region=region,\n",
    "    version=\"1.0-1\",\n",
    "    py_version=\"py3\",\n",
    "    instance_type=training_instance_type,\n",
    ")\n",
    "\n",
    "xgb_train = Estimator(\n",
    "    image_uri=image_uri,\n",
    "    instance_type=training_instance_type,\n",
    "    instance_count=1,\n",
    "    output_path=model_path,\n",
    "    sagemaker_session=sagemaker_session,\n",
    "    role=role\n",
    ")\n",
    "\n",
    "xgb_train.set_hyperparameters(\n",
    "    objective=\"reg:linear\",\n",
    "    num_round=50,\n",
    "    max_depth=5,\n",
    "    eta=0.2,\n",
    "    gamma=4,\n",
    "    min_child_weight=6,\n",
    "    subsample=0.7,\n",
    "    silent=0,\n",
    ")"
   ]
  },
  {
   "cell_type": "markdown",
   "id": "02c08a30",
   "metadata": {},
   "source": [
    "## Model Training"
   ]
  },
  {
   "cell_type": "code",
   "execution_count": null,
   "id": "c30ff951",
   "metadata": {
    "tags": []
   },
   "outputs": [],
   "source": [
    "xgb_train.fit({'train': train_input})"
   ]
  },
  {
   "cell_type": "markdown",
   "id": "1f09af15",
   "metadata": {},
   "source": [
    "## Retrieve Model Data"
   ]
  },
  {
   "cell_type": "code",
   "execution_count": null,
   "id": "0a77976c",
   "metadata": {},
   "outputs": [],
   "source": [
    "model_artifacts = xgb_train.model_data\n",
    "model_artifacts"
   ]
  },
  {
   "cell_type": "markdown",
   "id": "7dfb6a25",
   "metadata": {},
   "source": [
    "## Create SM Client to Create Model, EP Config, EP"
   ]
  },
  {
   "cell_type": "code",
   "execution_count": null,
   "id": "a6fa9da9",
   "metadata": {},
   "outputs": [],
   "source": [
    "sm_client = boto3.client(service_name='sagemaker')"
   ]
  },
  {
   "cell_type": "markdown",
   "id": "ec6cec39",
   "metadata": {},
   "source": [
    "## Model Creation"
   ]
  },
  {
   "cell_type": "code",
   "execution_count": null,
   "id": "603a9052",
   "metadata": {},
   "outputs": [],
   "source": [
    "from time import gmtime, strftime\n",
    "model_name = 'xgboost-reg' + strftime(\"%Y-%m-%d-%H-%M-%S\", gmtime())\n",
    "print('Model name: ' + model_name)\n",
    "\n",
    "reference_container = {\n",
    "    \"Image\": image_uri,\n",
    "    \"ModelDataUrl\": model_artifacts\n",
    "}\n",
    "\n",
    "create_model_response = sm_client.create_model(\n",
    "    ModelName = model_name,\n",
    "    ExecutionRoleArn = role,\n",
    "    PrimaryContainer= reference_container)\n",
    "\n",
    "print(\"Model Arn: \" + create_model_response['ModelArn'])"
   ]
  },
  {
   "cell_type": "markdown",
   "id": "c2214662",
   "metadata": {},
   "source": [
    "## Endpoint Config Creation"
   ]
  },
  {
   "cell_type": "code",
   "execution_count": null,
   "id": "4fcf8370",
   "metadata": {},
   "outputs": [],
   "source": [
    "endpoint_config_name = 'xgboost-config' + strftime(\"%Y-%m-%d-%H-%M-%S\", gmtime())\n",
    "instance_type='ml.m5.large'\n",
    "print('Endpoint config name: ' + endpoint_config_name)\n",
    "\n",
    "create_endpoint_config_response = sm_client.create_endpoint_config(\n",
    "    EndpointConfigName = endpoint_config_name,\n",
    "    ProductionVariants=[{\n",
    "        'InstanceType': instance_type,\n",
    "        'InitialInstanceCount': 1,\n",
    "        'InitialVariantWeight': 1,\n",
    "        'ModelName': model_name,\n",
    "        'VariantName': 'AllTraffic',\n",
    "        }])\n",
    "\n",
    "print(\"Endpoint config Arn: \" + create_endpoint_config_response['EndpointConfigArn'])"
   ]
  },
  {
   "cell_type": "markdown",
   "id": "1aa97318",
   "metadata": {},
   "source": [
    "## Endpoint Creation"
   ]
  },
  {
   "cell_type": "code",
   "execution_count": null,
   "id": "77adc281",
   "metadata": {},
   "outputs": [],
   "source": [
    "%%time\n",
    "\n",
    "import time\n",
    "\n",
    "endpoint_name = 'xgboost-reg' + strftime(\"%Y-%m-%d-%H-%M-%S\", gmtime())\n",
    "print('Endpoint name: ' + endpoint_name)\n",
    "\n",
    "create_endpoint_response = sm_client.create_endpoint(\n",
    "    EndpointName=endpoint_name,\n",
    "    EndpointConfigName=endpoint_config_name)\n",
    "print('Endpoint Arn: ' + create_endpoint_response['EndpointArn'])\n",
    "\n",
    "resp = sm_client.describe_endpoint(EndpointName=endpoint_name)\n",
    "status = resp['EndpointStatus']\n",
    "print(\"Endpoint Status: \" + status)\n",
    "\n",
    "print('Waiting for {} endpoint to be in service...'.format(endpoint_name))\n",
    "waiter = sm_client.get_waiter('endpoint_in_service')\n",
    "waiter.wait(EndpointName=endpoint_name)"
   ]
  },
  {
   "cell_type": "markdown",
   "id": "d087c679",
   "metadata": {},
   "source": [
    "## Sample Invocation"
   ]
  },
  {
   "cell_type": "code",
   "execution_count": null,
   "id": "1cb22b80",
   "metadata": {},
   "outputs": [],
   "source": [
    "import boto3\n",
    "smr = boto3.client('sagemaker-runtime')\n",
    "\n",
    "resp = smr.invoke_endpoint(EndpointName=endpoint_name, Body=b'.345,0.224414,.131102,0.042329,.279923,-0.110329,-0.099358,0.0', \n",
    "                           ContentType='text/csv')\n",
    "\n",
    "print(resp['Body'].read())"
   ]
  },
  {
   "cell_type": "markdown",
   "id": "0fbb9437-aab9-4add-94df-46c281efc694",
   "metadata": {},
   "source": [
    "## Check Autoscaling in the SageMaker Endpoint console\n",
    "\n",
    "Go to SageMaker console, under endpoints and try to check the autoscale console, inside the deployed endpoint. "
   ]
  },
  {
   "cell_type": "markdown",
   "id": "45bb07c8",
   "metadata": {},
   "source": [
    "## AutoScaling SageMaker Real-Time Endpoint\n",
    "\n",
    "Here we define a scaling policy based off of invocations per instance. We set the maximum instance count to 4. We can define this using the Boto3 SDK. There's different types of scaling policies: Simple Scaling, Target Tracking Scaling, Step Scaling, Scheduled Scaling, and On-Demand Scaling. For this we'll be using Target Tracking Scaling and be using the Invocations Per Instance Metric as the basis for scaling."
   ]
  },
  {
   "cell_type": "code",
   "execution_count": null,
   "id": "2978d0c5",
   "metadata": {},
   "outputs": [],
   "source": [
    "# AutoScaling client\n",
    "asg = boto3.client('application-autoscaling')\n",
    "\n",
    "# Resource type is variant and the unique identifier is the resource ID.\n",
    "resource_id=f\"endpoint/{endpoint_name}/variant/AllTraffic\"\n",
    "\n",
    "# scaling configuration\n",
    "response = asg.register_scalable_target(\n",
    "    ServiceNamespace='sagemaker', #\n",
    "    ResourceId=resource_id,\n",
    "    ScalableDimension='sagemaker:variant:DesiredInstanceCount', \n",
    "    MinCapacity=1,\n",
    "    MaxCapacity=2\n",
    ")\n",
    "\n",
    "#Target Scaling\n",
    "response = asg.put_scaling_policy(\n",
    "    PolicyName=f'Request-ScalingPolicy-{endpoint_name}',\n",
    "    ServiceNamespace='sagemaker',\n",
    "    ResourceId=resource_id,\n",
    "    ScalableDimension='sagemaker:variant:DesiredInstanceCount',\n",
    "    PolicyType='TargetTrackingScaling',\n",
    "    TargetTrackingScalingPolicyConfiguration={\n",
    "        'TargetValue': 1.0, # Threshold\n",
    "        'PredefinedMetricSpecification': {\n",
    "            'PredefinedMetricType': 'SageMakerVariantInvocationsPerInstance',\n",
    "        },\n",
    "        'ScaleInCooldown': 30, # duration until scale in\n",
    "        'ScaleOutCooldown': 30 # duration between scale out\n",
    "    }\n",
    ")"
   ]
  },
  {
   "cell_type": "code",
   "execution_count": null,
   "id": "1cb4cd1a-812e-4400-9536-40ce581b7304",
   "metadata": {},
   "outputs": [],
   "source": [
    "import pprint\n",
    "pp = pprint.PrettyPrinter(indent=4, depth=4)\n",
    "\n",
    "response = asg.describe_scaling_policies(\n",
    "    ServiceNamespace='sagemaker'\n",
    ")\n",
    "\n",
    "for i in response['ScalingPolicies']:\n",
    "    print('')\n",
    "    pp.pprint(i['PolicyName'])\n",
    "    print('')\n",
    "    if('TargetTrackingScalingPolicyConfiguration' in i):\n",
    "        pp.pprint(i['TargetTrackingScalingPolicyConfiguration']) \n",
    "    else:\n",
    "        pp.pprint(i['StepScalingPolicyConfiguration'])\n",
    "    print('')"
   ]
  },
  {
   "cell_type": "code",
   "execution_count": null,
   "id": "9fe2adec",
   "metadata": {},
   "outputs": [],
   "source": [
    "request_duration = 300\n",
    "end_time = time.time() + request_duration\n",
    "print(f\"test will run for {request_duration} seconds\")\n",
    "\n",
    "duration_check = 10\n",
    "last_checked = time.time()\n",
    "\n",
    "while time.time() < end_time:\n",
    "    \n",
    "    for i in range(1000):\n",
    "        resp = smr.invoke_endpoint(\n",
    "            EndpointName=endpoint_name, \n",
    "            Body=b'.345,0.224414,.131102,0.042329,.279923,-0.110329,-0.099358,0.0', \n",
    "            ContentType='text/csv'\n",
    "        )\n",
    "    \n",
    "    now = time.time()\n",
    "    \n",
    "    if (now-last_checked) >= duration_check:\n",
    "        endpoint_check = sm_client.describe_endpoint(EndpointName=endpoint_name)\n",
    "        status = endpoint_check['EndpointStatus']\n",
    "        instance_count = endpoint_check['ProductionVariants'][0]['CurrentInstanceCount']\n",
    "        print(f\"Status: {status}. Current Instance count: {instance_count}\")\n",
    "        last_checked = time.time()\n",
    "\n",
    "    "
   ]
  },
  {
   "cell_type": "markdown",
   "id": "cf375fc2",
   "metadata": {},
   "source": [
    "We can monitor these invocations through CloudWatch which you can access through the SageMaker console."
   ]
  },
  {
   "cell_type": "markdown",
   "id": "559e4a4e",
   "metadata": {},
   "source": [
    "<img src='invocations.png' width=\"900\" height=\"400\">"
   ]
  },
  {
   "cell_type": "markdown",
   "id": "b84c70bd",
   "metadata": {},
   "source": [
    "We can zoom in to monitor the InvocationsPerInstance metric more."
   ]
  },
  {
   "cell_type": "markdown",
   "id": "e13d2862",
   "metadata": {},
   "source": [
    "<img src='scale_invocations.png' width=\"900\" height=\"400\">"
   ]
  },
  {
   "cell_type": "code",
   "execution_count": null,
   "id": "59c9a136",
   "metadata": {},
   "outputs": [],
   "source": [
    "response = sm_client.describe_endpoint(EndpointName=endpoint_name)\n",
    "status = response['EndpointStatus']\n",
    "print(\"Status: \" + status)\n",
    "\n",
    "\n",
    "while status=='Updating':\n",
    "    time.sleep(1)\n",
    "    response = sm_client.describe_endpoint(EndpointName=endpoint_name)\n",
    "    status = response['EndpointStatus']\n",
    "    instance_count = response['ProductionVariants'][0]['CurrentInstanceCount']\n",
    "    print(f\"Status: {status}\")\n",
    "    print(f\"Current Instance count: {instance_count}\")"
   ]
  }
 ],
 "metadata": {
  "instance_type": "ml.t3.medium",
  "kernelspec": {
   "display_name": "Python 3 (Data Science)",
   "language": "python",
   "name": "python3__SAGEMAKER_INTERNAL__arn:aws:sagemaker:ap-southeast-1:492261229750:image/datascience-1.0"
  },
  "language_info": {
   "codemirror_mode": {
    "name": "ipython",
    "version": 3
   },
   "file_extension": ".py",
   "mimetype": "text/x-python",
   "name": "python",
   "nbconvert_exporter": "python",
   "pygments_lexer": "ipython3",
   "version": "3.7.10"
  }
 },
 "nbformat": 4,
 "nbformat_minor": 5
}
